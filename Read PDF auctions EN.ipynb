{
 "cells": [
  {
   "cell_type": "code",
   "execution_count": 1,
   "id": "6cc47e32-66e7-4222-979e-88539932312e",
   "metadata": {},
   "outputs": [
    {
     "name": "stdout",
     "output_type": "stream",
     "text": [
      "Requirement already satisfied: tabula-py[jpype] in /Users/krzysztofwasniewski/opt/anaconda3/lib/python3.8/site-packages (2.9.0)\n",
      "Requirement already satisfied: distro in /Users/krzysztofwasniewski/opt/anaconda3/lib/python3.8/site-packages (from tabula-py[jpype]) (1.9.0)\n",
      "Requirement already satisfied: numpy in /Users/krzysztofwasniewski/opt/anaconda3/lib/python3.8/site-packages (from tabula-py[jpype]) (1.23.0)\n",
      "Requirement already satisfied: pandas>=0.25.3 in /Users/krzysztofwasniewski/opt/anaconda3/lib/python3.8/site-packages (from tabula-py[jpype]) (1.2.4)\n",
      "Requirement already satisfied: jpype1 in /Users/krzysztofwasniewski/opt/anaconda3/lib/python3.8/site-packages (from tabula-py[jpype]) (1.5.0)\n",
      "Requirement already satisfied: python-dateutil>=2.7.3 in /Users/krzysztofwasniewski/opt/anaconda3/lib/python3.8/site-packages (from pandas>=0.25.3->tabula-py[jpype]) (2.8.1)\n",
      "Requirement already satisfied: pytz>=2017.3 in /Users/krzysztofwasniewski/opt/anaconda3/lib/python3.8/site-packages (from pandas>=0.25.3->tabula-py[jpype]) (2021.1)\n",
      "Requirement already satisfied: six>=1.5 in /Users/krzysztofwasniewski/opt/anaconda3/lib/python3.8/site-packages (from python-dateutil>=2.7.3->pandas>=0.25.3->tabula-py[jpype]) (1.15.0)\n",
      "Requirement already satisfied: packaging in /Users/krzysztofwasniewski/opt/anaconda3/lib/python3.8/site-packages (from jpype1->tabula-py[jpype]) (20.9)\n",
      "Requirement already satisfied: pyparsing>=2.0.2 in /Users/krzysztofwasniewski/opt/anaconda3/lib/python3.8/site-packages (from packaging->jpype1->tabula-py[jpype]) (2.4.7)\n",
      "Note: you may need to restart the kernel to use updated packages.\n"
     ]
    }
   ],
   "source": [
    "pip install tabula-py[jpype]"
   ]
  },
  {
   "cell_type": "code",
   "execution_count": 2,
   "id": "7af00326-2094-41ca-b167-1159e4b19a3c",
   "metadata": {},
   "outputs": [],
   "source": [
    "import tabula\n",
    "from tabula import read_pdf\n",
    "import numpy as np\n",
    "import pandas as pd\n",
    "import os\n",
    "import math"
   ]
  },
  {
   "cell_type": "code",
   "execution_count": 3,
   "id": "80f11f40-d028-4b48-a65a-dabddaad7274",
   "metadata": {},
   "outputs": [],
   "source": [
    "os.chdir('/Users/krzysztofwasniewski/Desktop/grant innowacyjność/Geografia energetyki rozproszonej SGH OPUS Jesień 2023/Dane PSE')"
   ]
  },
  {
   "cell_type": "code",
   "execution_count": 33,
   "id": "090d78b8-90c8-441c-b465-226ffdbe958b",
   "metadata": {},
   "outputs": [],
   "source": [
    "Auction_2024_p2=tabula.read_pdf('/Users/krzysztofwasniewski/Desktop/grant innowacyjność/Geografia energetyki rozproszonej SGH OPUS Jesień 2023/Dane PSE/Ostateczne_wyniki_aukcji_2024.pdf',pages=[2])\n",
    "Auction_2024_p3=tabula.read_pdf('/Users/krzysztofwasniewski/Desktop/grant innowacyjność/Geografia energetyki rozproszonej SGH OPUS Jesień 2023/Dane PSE/Ostateczne_wyniki_aukcji_2024.pdf',pages=[3])\n",
    "Auction_2024_p4=tabula.read_pdf('/Users/krzysztofwasniewski/Desktop/grant innowacyjność/Geografia energetyki rozproszonej SGH OPUS Jesień 2023/Dane PSE/Ostateczne_wyniki_aukcji_2024.pdf',pages=[4])\n",
    "Auction_2024_p5=tabula.read_pdf('/Users/krzysztofwasniewski/Desktop/grant innowacyjność/Geografia energetyki rozproszonej SGH OPUS Jesień 2023/Dane PSE/Ostateczne_wyniki_aukcji_2024.pdf',pages=[5])\n",
    "Auction_2024_p6=tabula.read_pdf('/Users/krzysztofwasniewski/Desktop/grant innowacyjność/Geografia energetyki rozproszonej SGH OPUS Jesień 2023/Dane PSE/Ostateczne_wyniki_aukcji_2024.pdf',pages=[6])\n",
    "Auction_2024_p7=tabula.read_pdf('/Users/krzysztofwasniewski/Desktop/grant innowacyjność/Geografia energetyki rozproszonej SGH OPUS Jesień 2023/Dane PSE/Ostateczne_wyniki_aukcji_2024.pdf',pages=[7])\n",
    "Auction_2024_p8=tabula.read_pdf('/Users/krzysztofwasniewski/Desktop/grant innowacyjność/Geografia energetyki rozproszonej SGH OPUS Jesień 2023/Dane PSE/Ostateczne_wyniki_aukcji_2024.pdf',pages=[8])"
   ]
  },
  {
   "cell_type": "code",
   "execution_count": 34,
   "id": "4d39920f-fe53-4a46-81bf-b6dd8f8c51ad",
   "metadata": {},
   "outputs": [],
   "source": [
    "Auction_2024_p2_CSV=tabula.convert_into('/Users/krzysztofwasniewski/Desktop/grant innowacyjność/Geografia energetyki rozproszonej SGH OPUS Jesień 2023/Dane PSE/Ostateczne_wyniki_aukcji_2024.pdf','/Users/krzysztofwasniewski/Desktop/grant innowacyjność/Geografia energetyki rozproszonej SGH OPUS Jesień 2023/Dane PSE/Ostateczne_wyniki_aukcji_2024_p2.csv',pages=[2])\n",
    "Auction_2024_p3_CSV=tabula.convert_into('/Users/krzysztofwasniewski/Desktop/grant innowacyjność/Geografia energetyki rozproszonej SGH OPUS Jesień 2023/Dane PSE/Ostateczne_wyniki_aukcji_2024.pdf','/Users/krzysztofwasniewski/Desktop/grant innowacyjność/Geografia energetyki rozproszonej SGH OPUS Jesień 2023/Dane PSE/Ostateczne_wyniki_aukcji_2024_p3.csv',pages=[3])\n",
    "Auction_2024_p4_CSV=tabula.convert_into('/Users/krzysztofwasniewski/Desktop/grant innowacyjność/Geografia energetyki rozproszonej SGH OPUS Jesień 2023/Dane PSE/Ostateczne_wyniki_aukcji_2024.pdf','/Users/krzysztofwasniewski/Desktop/grant innowacyjność/Geografia energetyki rozproszonej SGH OPUS Jesień 2023/Dane PSE/Ostateczne_wyniki_aukcji_2024_p4.csv',pages=[4])\n",
    "Auction_2024_p5_CSV=tabula.convert_into('/Users/krzysztofwasniewski/Desktop/grant innowacyjność/Geografia energetyki rozproszonej SGH OPUS Jesień 2023/Dane PSE/Ostateczne_wyniki_aukcji_2024.pdf','/Users/krzysztofwasniewski/Desktop/grant innowacyjność/Geografia energetyki rozproszonej SGH OPUS Jesień 2023/Dane PSE/Ostateczne_wyniki_aukcji_2024_p5.csv',pages=[5])\n",
    "Auction_2024_p6_CSV=tabula.convert_into('/Users/krzysztofwasniewski/Desktop/grant innowacyjność/Geografia energetyki rozproszonej SGH OPUS Jesień 2023/Dane PSE/Ostateczne_wyniki_aukcji_2024.pdf','/Users/krzysztofwasniewski/Desktop/grant innowacyjność/Geografia energetyki rozproszonej SGH OPUS Jesień 2023/Dane PSE/Ostateczne_wyniki_aukcji_2024_p6.csv',pages=[6])\n",
    "Auction_2024_p7_CSV=tabula.convert_into('/Users/krzysztofwasniewski/Desktop/grant innowacyjność/Geografia energetyki rozproszonej SGH OPUS Jesień 2023/Dane PSE/Ostateczne_wyniki_aukcji_2024.pdf','/Users/krzysztofwasniewski/Desktop/grant innowacyjność/Geografia energetyki rozproszonej SGH OPUS Jesień 2023/Dane PSE/Ostateczne_wyniki_aukcji_2024_p7.csv',pages=[7])\n",
    "Auction_2024_p8_CSV=tabula.convert_into('/Users/krzysztofwasniewski/Desktop/grant innowacyjność/Geografia energetyki rozproszonej SGH OPUS Jesień 2023/Dane PSE/Ostateczne_wyniki_aukcji_2024.pdf','/Users/krzysztofwasniewski/Desktop/grant innowacyjność/Geografia energetyki rozproszonej SGH OPUS Jesień 2023/Dane PSE/Ostateczne_wyniki_aukcji_2024_p8.csv',pages=[8])\n"
   ]
  },
  {
   "cell_type": "code",
   "execution_count": 35,
   "id": "87936476-cfbf-4d88-ab02-3c57f300ec7e",
   "metadata": {},
   "outputs": [],
   "source": [
    "Auction2024_p2=pd.DataFrame(pd.read_csv('/Users/krzysztofwasniewski/Desktop/grant innowacyjność/Geografia energetyki rozproszonej SGH OPUS Jesień 2023/Dane PSE/Ostateczne_wyniki_aukcji_2024_p2.csv',skiprows=0))\n",
    "Auction2024_p3=pd.DataFrame(pd.read_csv('/Users/krzysztofwasniewski/Desktop/grant innowacyjność/Geografia energetyki rozproszonej SGH OPUS Jesień 2023/Dane PSE/Ostateczne_wyniki_aukcji_2024_p3.csv',skiprows=0))\n",
    "Auction2024_p4=pd.DataFrame(pd.read_csv('/Users/krzysztofwasniewski/Desktop/grant innowacyjność/Geografia energetyki rozproszonej SGH OPUS Jesień 2023/Dane PSE/Ostateczne_wyniki_aukcji_2024_p4.csv',skiprows=0))\n",
    "Auction2024_p5=pd.DataFrame(pd.read_csv('/Users/krzysztofwasniewski/Desktop/grant innowacyjność/Geografia energetyki rozproszonej SGH OPUS Jesień 2023/Dane PSE/Ostateczne_wyniki_aukcji_2024_p5.csv',skiprows=0))\n",
    "Auction2024_p6=pd.DataFrame(pd.read_csv('/Users/krzysztofwasniewski/Desktop/grant innowacyjność/Geografia energetyki rozproszonej SGH OPUS Jesień 2023/Dane PSE/Ostateczne_wyniki_aukcji_2024_p6.csv',skiprows=0))\n",
    "Auction2024_p7=pd.DataFrame(pd.read_csv('/Users/krzysztofwasniewski/Desktop/grant innowacyjność/Geografia energetyki rozproszonej SGH OPUS Jesień 2023/Dane PSE/Ostateczne_wyniki_aukcji_2024_p7.csv',skiprows=0))\n",
    "Auction2024_p8=pd.DataFrame(pd.read_csv('/Users/krzysztofwasniewski/Desktop/grant innowacyjność/Geografia energetyki rozproszonej SGH OPUS Jesień 2023/Dane PSE/Ostateczne_wyniki_aukcji_2024_p8.csv',skiprows=0))\n",
    "Auction2024_p8.drop(columns=['Unnamed: 0','Unnamed: 2','Unnamed: 4','Unnamed: 6','Unnamed: 8','Unnamed: 10',\n",
    "                             'Unnamed: 12','Unnamed: 14'],inplace=True)"
   ]
  },
  {
   "cell_type": "code",
   "execution_count": 36,
   "id": "a6e9d1d4-b573-4cf5-ba96-3562fd74d908",
   "metadata": {},
   "outputs": [],
   "source": [
    "Auction2024=pd.concat([Auction2024_p2,Auction2024_p3,Auction2024_p4, Auction2024_p5, Auction2024_p6, Auction2024_p7, Auction2024_p8])"
   ]
  },
  {
   "cell_type": "code",
   "execution_count": 38,
   "id": "07122079-ab5d-4e54-8e28-fa9c7c8a7e46",
   "metadata": {},
   "outputs": [],
   "source": [
    "Auction2024.to_excel('/Users/krzysztofwasniewski/Desktop/Auction2024.xlsx')"
   ]
  },
  {
   "cell_type": "code",
   "execution_count": 39,
   "id": "774cd8f6-0460-4847-8cfe-da27b8a87600",
   "metadata": {},
   "outputs": [],
   "source": [
    "Auction_2025_p2_CSV=tabula.convert_into('/Users/krzysztofwasniewski/Desktop/grant innowacyjność/Geografia energetyki rozproszonej SGH OPUS Jesień 2023/Dane PSE/Ostateczne_wyniki_aukcji_2025.pdf','/Users/krzysztofwasniewski/Desktop/grant innowacyjność/Geografia energetyki rozproszonej SGH OPUS Jesień 2023/Dane PSE/Ostateczne_wyniki_aukcji_2025_p2.csv',pages=[2])\n",
    "Auction_2025_p3_CSV=tabula.convert_into('/Users/krzysztofwasniewski/Desktop/grant innowacyjność/Geografia energetyki rozproszonej SGH OPUS Jesień 2023/Dane PSE/Ostateczne_wyniki_aukcji_2025.pdf','/Users/krzysztofwasniewski/Desktop/grant innowacyjność/Geografia energetyki rozproszonej SGH OPUS Jesień 2023/Dane PSE/Ostateczne_wyniki_aukcji_2025_p3.csv',pages=[3])\n",
    "Auction_2025_p4_CSV=tabula.convert_into('/Users/krzysztofwasniewski/Desktop/grant innowacyjność/Geografia energetyki rozproszonej SGH OPUS Jesień 2023/Dane PSE/Ostateczne_wyniki_aukcji_2025.pdf','/Users/krzysztofwasniewski/Desktop/grant innowacyjność/Geografia energetyki rozproszonej SGH OPUS Jesień 2023/Dane PSE/Ostateczne_wyniki_aukcji_2025_p4.csv',pages=[4])\n",
    "Auction_2025_p5_CSV=tabula.convert_into('/Users/krzysztofwasniewski/Desktop/grant innowacyjność/Geografia energetyki rozproszonej SGH OPUS Jesień 2023/Dane PSE/Ostateczne_wyniki_aukcji_2025.pdf','/Users/krzysztofwasniewski/Desktop/grant innowacyjność/Geografia energetyki rozproszonej SGH OPUS Jesień 2023/Dane PSE/Ostateczne_wyniki_aukcji_2025_p5.csv',pages=[5])\n"
   ]
  },
  {
   "cell_type": "code",
   "execution_count": 40,
   "id": "b42695d8-8ccb-44e6-a75a-3e41edc48c62",
   "metadata": {},
   "outputs": [],
   "source": [
    "Auction2025_p2=pd.DataFrame(pd.read_csv('/Users/krzysztofwasniewski/Desktop/grant innowacyjność/Geografia energetyki rozproszonej SGH OPUS Jesień 2023/Dane PSE/Ostateczne_wyniki_aukcji_2025_p2.csv',skiprows=0))\n",
    "Auction2025_p3=pd.DataFrame(pd.read_csv('/Users/krzysztofwasniewski/Desktop/grant innowacyjność/Geografia energetyki rozproszonej SGH OPUS Jesień 2023/Dane PSE/Ostateczne_wyniki_aukcji_2025_p3.csv',skiprows=0))\n",
    "Auction2025_p4=pd.DataFrame(pd.read_csv('/Users/krzysztofwasniewski/Desktop/grant innowacyjność/Geografia energetyki rozproszonej SGH OPUS Jesień 2023/Dane PSE/Ostateczne_wyniki_aukcji_2025_p4.csv',skiprows=0))\n",
    "Auction2025_p5=pd.DataFrame(pd.read_csv('/Users/krzysztofwasniewski/Desktop/grant innowacyjność/Geografia energetyki rozproszonej SGH OPUS Jesień 2023/Dane PSE/Ostateczne_wyniki_aukcji_2025_p5.csv',skiprows=0))\n"
   ]
  },
  {
   "cell_type": "code",
   "execution_count": 41,
   "id": "08a655b5-2cd0-4874-a6e8-06afcb666ef2",
   "metadata": {},
   "outputs": [],
   "source": [
    "Auction2025=pd.concat([Auction2025_p2,Auction2025_p3,Auction2025_p4, Auction2025_p5])"
   ]
  },
  {
   "cell_type": "code",
   "execution_count": 42,
   "id": "9fabd775-b0e3-4f4c-b0e2-5a047c00d876",
   "metadata": {},
   "outputs": [],
   "source": [
    "Auction2025.to_excel('/Users/krzysztofwasniewski/Desktop/Auction2025.xlsx')"
   ]
  },
  {
   "cell_type": "code",
   "execution_count": 43,
   "id": "95f4913b-a165-4d05-b5fd-1d598da1b289",
   "metadata": {},
   "outputs": [],
   "source": [
    "Auction_2026_p2_CSV=tabula.convert_into('/Users/krzysztofwasniewski/Desktop/grant innowacyjność/Geografia energetyki rozproszonej SGH OPUS Jesień 2023/Dane PSE/Ostateczne_wyniki_aukcji_2026.pdf','/Users/krzysztofwasniewski/Desktop/grant innowacyjność/Geografia energetyki rozproszonej SGH OPUS Jesień 2023/Dane PSE/Ostateczne_wyniki_aukcji_2026_p2.csv',pages=[2])\n",
    "Auction_2026_p3_CSV=tabula.convert_into('/Users/krzysztofwasniewski/Desktop/grant innowacyjność/Geografia energetyki rozproszonej SGH OPUS Jesień 2023/Dane PSE/Ostateczne_wyniki_aukcji_2026.pdf','/Users/krzysztofwasniewski/Desktop/grant innowacyjność/Geografia energetyki rozproszonej SGH OPUS Jesień 2023/Dane PSE/Ostateczne_wyniki_aukcji_2026_p3.csv',pages=[3])\n",
    "Auction_2026_p4_CSV=tabula.convert_into('/Users/krzysztofwasniewski/Desktop/grant innowacyjność/Geografia energetyki rozproszonej SGH OPUS Jesień 2023/Dane PSE/Ostateczne_wyniki_aukcji_2026.pdf','/Users/krzysztofwasniewski/Desktop/grant innowacyjność/Geografia energetyki rozproszonej SGH OPUS Jesień 2023/Dane PSE/Ostateczne_wyniki_aukcji_2026_p4.csv',pages=[4])\n",
    "Auction_2026_p5_CSV=tabula.convert_into('/Users/krzysztofwasniewski/Desktop/grant innowacyjność/Geografia energetyki rozproszonej SGH OPUS Jesień 2023/Dane PSE/Ostateczne_wyniki_aukcji_2026.pdf','/Users/krzysztofwasniewski/Desktop/grant innowacyjność/Geografia energetyki rozproszonej SGH OPUS Jesień 2023/Dane PSE/Ostateczne_wyniki_aukcji_2026_p5.csv',pages=[5])\n",
    "Auction_2026_p6_CSV=tabula.convert_into('/Users/krzysztofwasniewski/Desktop/grant innowacyjność/Geografia energetyki rozproszonej SGH OPUS Jesień 2023/Dane PSE/Ostateczne_wyniki_aukcji_2026.pdf','/Users/krzysztofwasniewski/Desktop/grant innowacyjność/Geografia energetyki rozproszonej SGH OPUS Jesień 2023/Dane PSE/Ostateczne_wyniki_aukcji_2026_p6.csv',pages=[6])\n",
    "Auction_2026_p7_CSV=tabula.convert_into('/Users/krzysztofwasniewski/Desktop/grant innowacyjność/Geografia energetyki rozproszonej SGH OPUS Jesień 2023/Dane PSE/Ostateczne_wyniki_aukcji_2026.pdf','/Users/krzysztofwasniewski/Desktop/grant innowacyjność/Geografia energetyki rozproszonej SGH OPUS Jesień 2023/Dane PSE/Ostateczne_wyniki_aukcji_2026_p7.csv',pages=[7])\n",
    "Auction_2026_p8_CSV=tabula.convert_into('/Users/krzysztofwasniewski/Desktop/grant innowacyjność/Geografia energetyki rozproszonej SGH OPUS Jesień 2023/Dane PSE/Ostateczne_wyniki_aukcji_2026.pdf','/Users/krzysztofwasniewski/Desktop/grant innowacyjność/Geografia energetyki rozproszonej SGH OPUS Jesień 2023/Dane PSE/Ostateczne_wyniki_aukcji_2026_p8.csv',pages=[8])\n",
    "Auction_2026_p9_CSV=tabula.convert_into('/Users/krzysztofwasniewski/Desktop/grant innowacyjność/Geografia energetyki rozproszonej SGH OPUS Jesień 2023/Dane PSE/Ostateczne_wyniki_aukcji_2026.pdf','/Users/krzysztofwasniewski/Desktop/grant innowacyjność/Geografia energetyki rozproszonej SGH OPUS Jesień 2023/Dane PSE/Ostateczne_wyniki_aukcji_2026_p9.csv',pages=[9])\n",
    "Auction_2026_p10_CSV=tabula.convert_into('/Users/krzysztofwasniewski/Desktop/grant innowacyjność/Geografia energetyki rozproszonej SGH OPUS Jesień 2023/Dane PSE/Ostateczne_wyniki_aukcji_2026.pdf','/Users/krzysztofwasniewski/Desktop/grant innowacyjność/Geografia energetyki rozproszonej SGH OPUS Jesień 2023/Dane PSE/Ostateczne_wyniki_aukcji_2026_p10.csv',pages=[10])\n",
    "Auction_2026_p11_CSV=tabula.convert_into('/Users/krzysztofwasniewski/Desktop/grant innowacyjność/Geografia energetyki rozproszonej SGH OPUS Jesień 2023/Dane PSE/Ostateczne_wyniki_aukcji_2026.pdf','/Users/krzysztofwasniewski/Desktop/grant innowacyjność/Geografia energetyki rozproszonej SGH OPUS Jesień 2023/Dane PSE/Ostateczne_wyniki_aukcji_2026_p11.csv',pages=[11])\n"
   ]
  },
  {
   "cell_type": "code",
   "execution_count": 44,
   "id": "63dddcdf-447c-4d68-ab8d-dd825787fef5",
   "metadata": {},
   "outputs": [],
   "source": [
    "Auction2026_p2=pd.DataFrame(pd.read_csv('/Users/krzysztofwasniewski/Desktop/grant innowacyjność/Geografia energetyki rozproszonej SGH OPUS Jesień 2023/Dane PSE/Ostateczne_wyniki_aukcji_2026_p2.csv',skiprows=0))\n",
    "Auction2026_p3=pd.DataFrame(pd.read_csv('/Users/krzysztofwasniewski/Desktop/grant innowacyjność/Geografia energetyki rozproszonej SGH OPUS Jesień 2023/Dane PSE/Ostateczne_wyniki_aukcji_2026_p3.csv',skiprows=0))\n",
    "Auction2026_p4=pd.DataFrame(pd.read_csv('/Users/krzysztofwasniewski/Desktop/grant innowacyjność/Geografia energetyki rozproszonej SGH OPUS Jesień 2023/Dane PSE/Ostateczne_wyniki_aukcji_2026_p4.csv',skiprows=0))\n",
    "Auction2026_p5=pd.DataFrame(pd.read_csv('/Users/krzysztofwasniewski/Desktop/grant innowacyjność/Geografia energetyki rozproszonej SGH OPUS Jesień 2023/Dane PSE/Ostateczne_wyniki_aukcji_2026_p5.csv',skiprows=0))\n",
    "Auction2026_p6=pd.DataFrame(pd.read_csv('/Users/krzysztofwasniewski/Desktop/grant innowacyjność/Geografia energetyki rozproszonej SGH OPUS Jesień 2023/Dane PSE/Ostateczne_wyniki_aukcji_2026_p6.csv',skiprows=0))\n",
    "Auction2026_p7=pd.DataFrame(pd.read_csv('/Users/krzysztofwasniewski/Desktop/grant innowacyjność/Geografia energetyki rozproszonej SGH OPUS Jesień 2023/Dane PSE/Ostateczne_wyniki_aukcji_2026_p7.csv',skiprows=0))\n",
    "Auction2026_p8=pd.DataFrame(pd.read_csv('/Users/krzysztofwasniewski/Desktop/grant innowacyjność/Geografia energetyki rozproszonej SGH OPUS Jesień 2023/Dane PSE/Ostateczne_wyniki_aukcji_2026_p8.csv',skiprows=0))\n",
    "Auction2026_p9=pd.DataFrame(pd.read_csv('/Users/krzysztofwasniewski/Desktop/grant innowacyjność/Geografia energetyki rozproszonej SGH OPUS Jesień 2023/Dane PSE/Ostateczne_wyniki_aukcji_2026_p9.csv',skiprows=0))\n",
    "Auction2026_p10=pd.DataFrame(pd.read_csv('/Users/krzysztofwasniewski/Desktop/grant innowacyjność/Geografia energetyki rozproszonej SGH OPUS Jesień 2023/Dane PSE/Ostateczne_wyniki_aukcji_2026_p10.csv',skiprows=0))\n",
    "Auction2026_p11=pd.DataFrame(pd.read_csv('/Users/krzysztofwasniewski/Desktop/grant innowacyjność/Geografia energetyki rozproszonej SGH OPUS Jesień 2023/Dane PSE/Ostateczne_wyniki_aukcji_2026_p11.csv',skiprows=0))\n"
   ]
  },
  {
   "cell_type": "code",
   "execution_count": 45,
   "id": "5c730935-642f-4268-899b-9ed5a1c05eb2",
   "metadata": {},
   "outputs": [],
   "source": [
    "Auction2026=pd.concat([Auction2026_p2,Auction2026_p3,Auction2026_p4, Auction2026_p5,Auction2026_p7,Auction2026_p8,\n",
    "                      Auction2026_p9,Auction2026_p10,Auction2026_p11])"
   ]
  },
  {
   "cell_type": "code",
   "execution_count": 46,
   "id": "4a397d84-5c51-486a-94f5-37a0de55d385",
   "metadata": {},
   "outputs": [],
   "source": [
    "Auction2026.to_excel('/Users/krzysztofwasniewski/Desktop/Auction2026.xlsx')"
   ]
  },
  {
   "cell_type": "code",
   "execution_count": 8,
   "id": "dd474de8-8a83-4f78-832c-ebafbbab8c59",
   "metadata": {},
   "outputs": [],
   "source": [
    "Auction_2027_p2_CSV=tabula.convert_into('/Users/krzysztofwasniewski/Desktop/grant innowacyjność/Geografia energetyki rozproszonej SGH OPUS Jesień 2023/Dane PSE/Ostateczne_wyniki_aukcji_2027.pdf','/Users/krzysztofwasniewski/Desktop/grant innowacyjność/Geografia energetyki rozproszonej SGH OPUS Jesień 2023/Dane PSE/Ostateczne_wyniki_aukcji_2027_p2.csv',pages=[2])\n",
    "Auction_2027_p3_CSV=tabula.convert_into('/Users/krzysztofwasniewski/Desktop/grant innowacyjność/Geografia energetyki rozproszonej SGH OPUS Jesień 2023/Dane PSE/Ostateczne_wyniki_aukcji_2027.pdf','/Users/krzysztofwasniewski/Desktop/grant innowacyjność/Geografia energetyki rozproszonej SGH OPUS Jesień 2023/Dane PSE/Ostateczne_wyniki_aukcji_2027_p3.csv',pages=[3])\n",
    "Auction_2027_p4_CSV=tabula.convert_into('/Users/krzysztofwasniewski/Desktop/grant innowacyjność/Geografia energetyki rozproszonej SGH OPUS Jesień 2023/Dane PSE/Ostateczne_wyniki_aukcji_2027.pdf','/Users/krzysztofwasniewski/Desktop/grant innowacyjność/Geografia energetyki rozproszonej SGH OPUS Jesień 2023/Dane PSE/Ostateczne_wyniki_aukcji_2027_p4.csv',pages=[4])\n",
    "Auction_2027_p5_CSV=tabula.convert_into('/Users/krzysztofwasniewski/Desktop/grant innowacyjność/Geografia energetyki rozproszonej SGH OPUS Jesień 2023/Dane PSE/Ostateczne_wyniki_aukcji_2027.pdf','/Users/krzysztofwasniewski/Desktop/grant innowacyjność/Geografia energetyki rozproszonej SGH OPUS Jesień 2023/Dane PSE/Ostateczne_wyniki_aukcji_2027_p5.csv',pages=[5])\n",
    "Auction_2027_p6_CSV=tabula.convert_into('/Users/krzysztofwasniewski/Desktop/grant innowacyjność/Geografia energetyki rozproszonej SGH OPUS Jesień 2023/Dane PSE/Ostateczne_wyniki_aukcji_2027.pdf','/Users/krzysztofwasniewski/Desktop/grant innowacyjność/Geografia energetyki rozproszonej SGH OPUS Jesień 2023/Dane PSE/Ostateczne_wyniki_aukcji_2027_p6.csv',pages=[6])\n",
    "Auction_2027_p7_CSV=tabula.convert_into('/Users/krzysztofwasniewski/Desktop/grant innowacyjność/Geografia energetyki rozproszonej SGH OPUS Jesień 2023/Dane PSE/Ostateczne_wyniki_aukcji_2027.pdf','/Users/krzysztofwasniewski/Desktop/grant innowacyjność/Geografia energetyki rozproszonej SGH OPUS Jesień 2023/Dane PSE/Ostateczne_wyniki_aukcji_2027_p7.csv',pages=[7])\n",
    "Auction_2027_p8_CSV=tabula.convert_into('/Users/krzysztofwasniewski/Desktop/grant innowacyjność/Geografia energetyki rozproszonej SGH OPUS Jesień 2023/Dane PSE/Ostateczne_wyniki_aukcji_2027.pdf','/Users/krzysztofwasniewski/Desktop/grant innowacyjność/Geografia energetyki rozproszonej SGH OPUS Jesień 2023/Dane PSE/Ostateczne_wyniki_aukcji_2027_p8.csv',pages=[8])\n"
   ]
  },
  {
   "cell_type": "code",
   "execution_count": 9,
   "id": "40e7dfd1-50e8-4298-935d-8848954c9524",
   "metadata": {},
   "outputs": [],
   "source": [
    "Auction2027_p2=pd.DataFrame(pd.read_csv('/Users/krzysztofwasniewski/Desktop/grant innowacyjność/Geografia energetyki rozproszonej SGH OPUS Jesień 2023/Dane PSE/Ostateczne_wyniki_aukcji_2027_p2.csv',skiprows=0))\n",
    "Auction2027_p3=pd.DataFrame(pd.read_csv('/Users/krzysztofwasniewski/Desktop/grant innowacyjność/Geografia energetyki rozproszonej SGH OPUS Jesień 2023/Dane PSE/Ostateczne_wyniki_aukcji_2027_p3.csv',skiprows=0))\n",
    "Auction2027_p4=pd.DataFrame(pd.read_csv('/Users/krzysztofwasniewski/Desktop/grant innowacyjność/Geografia energetyki rozproszonej SGH OPUS Jesień 2023/Dane PSE/Ostateczne_wyniki_aukcji_2027_p4.csv',skiprows=0))\n",
    "Auction2027_p5=pd.DataFrame(pd.read_csv('/Users/krzysztofwasniewski/Desktop/grant innowacyjność/Geografia energetyki rozproszonej SGH OPUS Jesień 2023/Dane PSE/Ostateczne_wyniki_aukcji_2027_p5.csv',skiprows=0))\n",
    "Auction2027_p6=pd.DataFrame(pd.read_csv('/Users/krzysztofwasniewski/Desktop/grant innowacyjność/Geografia energetyki rozproszonej SGH OPUS Jesień 2023/Dane PSE/Ostateczne_wyniki_aukcji_2027_p6.csv',skiprows=0))\n",
    "Auction2027_p7=pd.DataFrame(pd.read_csv('/Users/krzysztofwasniewski/Desktop/grant innowacyjność/Geografia energetyki rozproszonej SGH OPUS Jesień 2023/Dane PSE/Ostateczne_wyniki_aukcji_2027_p7.csv',skiprows=0))\n",
    "Auction2027_p8=pd.DataFrame(pd.read_csv('/Users/krzysztofwasniewski/Desktop/grant innowacyjność/Geografia energetyki rozproszonej SGH OPUS Jesień 2023/Dane PSE/Ostateczne_wyniki_aukcji_2027_p8.csv',skiprows=0))\n"
   ]
  },
  {
   "cell_type": "code",
   "execution_count": 10,
   "id": "ce9c3fb1-2d38-4bf0-bd37-c819eebe1f00",
   "metadata": {},
   "outputs": [],
   "source": [
    "Auction2027=pd.concat([Auction2027_p2,Auction2027_p3,Auction2027_p4, Auction2027_p5,Auction2027_p6,Auction2027_p7,Auction2027_p8])"
   ]
  },
  {
   "cell_type": "code",
   "execution_count": 11,
   "id": "3b1c9ce8-8c11-4bc3-9813-922aa68eba22",
   "metadata": {},
   "outputs": [],
   "source": [
    "Auction2027.to_excel('/Users/krzysztofwasniewski/Desktop/Auction2027.xlsx')"
   ]
  },
  {
   "cell_type": "code",
   "execution_count": 4,
   "id": "8e3873b1-ae79-496e-bd70-1ed25c41f0be",
   "metadata": {},
   "outputs": [],
   "source": [
    "Auction_2023_p2_CSV=tabula.convert_into('/Users/krzysztofwasniewski/Desktop/grant innowacyjność/Geografia energetyki rozproszonej SGH OPUS Jesień 2023/Dane PSE/Ostateczne_wyniki_aukcji_2023.pdf','/Users/krzysztofwasniewski/Desktop/grant innowacyjność/Geografia energetyki rozproszonej SGH OPUS Jesień 2023/Dane PSE/Ostateczne_wyniki_aukcji_2023_p2.csv',pages=[2])\n",
    "Auction_2023_p3_CSV=tabula.convert_into('/Users/krzysztofwasniewski/Desktop/grant innowacyjność/Geografia energetyki rozproszonej SGH OPUS Jesień 2023/Dane PSE/Ostateczne_wyniki_aukcji_2023.pdf','/Users/krzysztofwasniewski/Desktop/grant innowacyjność/Geografia energetyki rozproszonej SGH OPUS Jesień 2023/Dane PSE/Ostateczne_wyniki_aukcji_2023_p3.csv',pages=[3])\n",
    "Auction_2023_p4_CSV=tabula.convert_into('/Users/krzysztofwasniewski/Desktop/grant innowacyjność/Geografia energetyki rozproszonej SGH OPUS Jesień 2023/Dane PSE/Ostateczne_wyniki_aukcji_2023.pdf','/Users/krzysztofwasniewski/Desktop/grant innowacyjność/Geografia energetyki rozproszonej SGH OPUS Jesień 2023/Dane PSE/Ostateczne_wyniki_aukcji_2023_p4.csv',pages=[4])\n",
    "Auction_2023_p5_CSV=tabula.convert_into('/Users/krzysztofwasniewski/Desktop/grant innowacyjność/Geografia energetyki rozproszonej SGH OPUS Jesień 2023/Dane PSE/Ostateczne_wyniki_aukcji_2023.pdf','/Users/krzysztofwasniewski/Desktop/grant innowacyjność/Geografia energetyki rozproszonej SGH OPUS Jesień 2023/Dane PSE/Ostateczne_wyniki_aukcji_2023_p5.csv',pages=[5])\n",
    "Auction_2023_p6_CSV=tabula.convert_into('/Users/krzysztofwasniewski/Desktop/grant innowacyjność/Geografia energetyki rozproszonej SGH OPUS Jesień 2023/Dane PSE/Ostateczne_wyniki_aukcji_2023.pdf','/Users/krzysztofwasniewski/Desktop/grant innowacyjność/Geografia energetyki rozproszonej SGH OPUS Jesień 2023/Dane PSE/Ostateczne_wyniki_aukcji_2023_p6.csv',pages=[6])\n",
    "Auction_2023_p7_CSV=tabula.convert_into('/Users/krzysztofwasniewski/Desktop/grant innowacyjność/Geografia energetyki rozproszonej SGH OPUS Jesień 2023/Dane PSE/Ostateczne_wyniki_aukcji_2023.pdf','/Users/krzysztofwasniewski/Desktop/grant innowacyjność/Geografia energetyki rozproszonej SGH OPUS Jesień 2023/Dane PSE/Ostateczne_wyniki_aukcji_2023_p7.csv',pages=[7])\n",
    "Auction_2023_p8_CSV=tabula.convert_into('/Users/krzysztofwasniewski/Desktop/grant innowacyjność/Geografia energetyki rozproszonej SGH OPUS Jesień 2023/Dane PSE/Ostateczne_wyniki_aukcji_2023.pdf','/Users/krzysztofwasniewski/Desktop/grant innowacyjność/Geografia energetyki rozproszonej SGH OPUS Jesień 2023/Dane PSE/Ostateczne_wyniki_aukcji_2023_p8.csv',pages=[8])\n"
   ]
  },
  {
   "cell_type": "code",
   "execution_count": 5,
   "id": "2729cf17-1bb8-41e0-bc4e-7c82d2443bd3",
   "metadata": {},
   "outputs": [],
   "source": [
    "Auction2023_p2=pd.DataFrame(pd.read_csv('/Users/krzysztofwasniewski/Desktop/grant innowacyjność/Geografia energetyki rozproszonej SGH OPUS Jesień 2023/Dane PSE/Ostateczne_wyniki_aukcji_2023_p2.csv',skiprows=0))\n",
    "Auction2023_p3=pd.DataFrame(pd.read_csv('/Users/krzysztofwasniewski/Desktop/grant innowacyjność/Geografia energetyki rozproszonej SGH OPUS Jesień 2023/Dane PSE/Ostateczne_wyniki_aukcji_2023_p3.csv',skiprows=0))\n",
    "Auction2023_p4=pd.DataFrame(pd.read_csv('/Users/krzysztofwasniewski/Desktop/grant innowacyjność/Geografia energetyki rozproszonej SGH OPUS Jesień 2023/Dane PSE/Ostateczne_wyniki_aukcji_2023_p4.csv',skiprows=0))\n",
    "Auction2023_p5=pd.DataFrame(pd.read_csv('/Users/krzysztofwasniewski/Desktop/grant innowacyjność/Geografia energetyki rozproszonej SGH OPUS Jesień 2023/Dane PSE/Ostateczne_wyniki_aukcji_2023_p5.csv',skiprows=0))\n",
    "Auction2023_p6=pd.DataFrame(pd.read_csv('/Users/krzysztofwasniewski/Desktop/grant innowacyjność/Geografia energetyki rozproszonej SGH OPUS Jesień 2023/Dane PSE/Ostateczne_wyniki_aukcji_2023_p6.csv',skiprows=0))\n",
    "Auction2023_p7=pd.DataFrame(pd.read_csv('/Users/krzysztofwasniewski/Desktop/grant innowacyjność/Geografia energetyki rozproszonej SGH OPUS Jesień 2023/Dane PSE/Ostateczne_wyniki_aukcji_2023_p7.csv',skiprows=0))\n",
    "Auction2023_p8=pd.DataFrame(pd.read_csv('/Users/krzysztofwasniewski/Desktop/grant innowacyjność/Geografia energetyki rozproszonej SGH OPUS Jesień 2023/Dane PSE/Ostateczne_wyniki_aukcji_2023_p8.csv',skiprows=0))\n"
   ]
  },
  {
   "cell_type": "code",
   "execution_count": 6,
   "id": "a2ef1a32-78e5-49a1-94aa-339d5b49b04e",
   "metadata": {},
   "outputs": [],
   "source": [
    "Auction2023=pd.concat([Auction2023_p2,Auction2023_p3,Auction2023_p4, Auction2023_p5,Auction2023_p6,Auction2023_p7,Auction2023_p8])"
   ]
  },
  {
   "cell_type": "code",
   "execution_count": 7,
   "id": "58e1a31f-94cc-4cbe-82fe-76ae0e6f0f51",
   "metadata": {},
   "outputs": [],
   "source": [
    "Auction2023.to_excel('/Users/krzysztofwasniewski/Desktop/Auction2023.xlsx')"
   ]
  },
  {
   "cell_type": "code",
   "execution_count": 8,
   "id": "437ca963-a8ce-4adb-bc9c-e03a5090dacb",
   "metadata": {},
   "outputs": [],
   "source": [
    "Auction_2022_p2_CSV=tabula.convert_into('/Users/krzysztofwasniewski/Desktop/grant innowacyjność/Geografia energetyki rozproszonej SGH OPUS Jesień 2023/Dane PSE/Ostateczne_wyniki_aukcji_2022.pdf','/Users/krzysztofwasniewski/Desktop/grant innowacyjność/Geografia energetyki rozproszonej SGH OPUS Jesień 2023/Dane PSE/Ostateczne_wyniki_aukcji_2022_p2.csv',pages=[2])\n",
    "Auction_2022_p3_CSV=tabula.convert_into('/Users/krzysztofwasniewski/Desktop/grant innowacyjność/Geografia energetyki rozproszonej SGH OPUS Jesień 2023/Dane PSE/Ostateczne_wyniki_aukcji_2022.pdf','/Users/krzysztofwasniewski/Desktop/grant innowacyjność/Geografia energetyki rozproszonej SGH OPUS Jesień 2023/Dane PSE/Ostateczne_wyniki_aukcji_2022_p3.csv',pages=[3])\n",
    "Auction_2022_p4_CSV=tabula.convert_into('/Users/krzysztofwasniewski/Desktop/grant innowacyjność/Geografia energetyki rozproszonej SGH OPUS Jesień 2023/Dane PSE/Ostateczne_wyniki_aukcji_2022.pdf','/Users/krzysztofwasniewski/Desktop/grant innowacyjność/Geografia energetyki rozproszonej SGH OPUS Jesień 2023/Dane PSE/Ostateczne_wyniki_aukcji_2022_p4.csv',pages=[4])\n",
    "Auction_2022_p5_CSV=tabula.convert_into('/Users/krzysztofwasniewski/Desktop/grant innowacyjność/Geografia energetyki rozproszonej SGH OPUS Jesień 2023/Dane PSE/Ostateczne_wyniki_aukcji_2022.pdf','/Users/krzysztofwasniewski/Desktop/grant innowacyjność/Geografia energetyki rozproszonej SGH OPUS Jesień 2023/Dane PSE/Ostateczne_wyniki_aukcji_2022_p5.csv',pages=[5])\n",
    "Auction_2022_p6_CSV=tabula.convert_into('/Users/krzysztofwasniewski/Desktop/grant innowacyjność/Geografia energetyki rozproszonej SGH OPUS Jesień 2023/Dane PSE/Ostateczne_wyniki_aukcji_2022.pdf','/Users/krzysztofwasniewski/Desktop/grant innowacyjność/Geografia energetyki rozproszonej SGH OPUS Jesień 2023/Dane PSE/Ostateczne_wyniki_aukcji_2022_p6.csv',pages=[6])\n",
    "Auction_2022_p7_CSV=tabula.convert_into('/Users/krzysztofwasniewski/Desktop/grant innowacyjność/Geografia energetyki rozproszonej SGH OPUS Jesień 2023/Dane PSE/Ostateczne_wyniki_aukcji_2022.pdf','/Users/krzysztofwasniewski/Desktop/grant innowacyjność/Geografia energetyki rozproszonej SGH OPUS Jesień 2023/Dane PSE/Ostateczne_wyniki_aukcji_2022_p7.csv',pages=[7])\n",
    "Auction_2022_p8_CSV=tabula.convert_into('/Users/krzysztofwasniewski/Desktop/grant innowacyjność/Geografia energetyki rozproszonej SGH OPUS Jesień 2023/Dane PSE/Ostateczne_wyniki_aukcji_2022.pdf','/Users/krzysztofwasniewski/Desktop/grant innowacyjność/Geografia energetyki rozproszonej SGH OPUS Jesień 2023/Dane PSE/Ostateczne_wyniki_aukcji_2022_p8.csv',pages=[8])\n",
    "Auction_2022_p9_CSV=tabula.convert_into('/Users/krzysztofwasniewski/Desktop/grant innowacyjność/Geografia energetyki rozproszonej SGH OPUS Jesień 2023/Dane PSE/Ostateczne_wyniki_aukcji_2022.pdf','/Users/krzysztofwasniewski/Desktop/grant innowacyjność/Geografia energetyki rozproszonej SGH OPUS Jesień 2023/Dane PSE/Ostateczne_wyniki_aukcji_2022_p9.csv',pages=[9])\n"
   ]
  },
  {
   "cell_type": "code",
   "execution_count": 10,
   "id": "fae3de12-1176-4e41-a086-f4a7c57eff0b",
   "metadata": {},
   "outputs": [],
   "source": [
    "Auction2022_p2=pd.DataFrame(pd.read_csv('/Users/krzysztofwasniewski/Desktop/grant innowacyjność/Geografia energetyki rozproszonej SGH OPUS Jesień 2023/Dane PSE/Ostateczne_wyniki_aukcji_2022_p2.csv',skiprows=0))\n",
    "Auction2022_p3=pd.DataFrame(pd.read_csv('/Users/krzysztofwasniewski/Desktop/grant innowacyjność/Geografia energetyki rozproszonej SGH OPUS Jesień 2023/Dane PSE/Ostateczne_wyniki_aukcji_2022_p3.csv',skiprows=0))\n",
    "Auction2022_p4=pd.DataFrame(pd.read_csv('/Users/krzysztofwasniewski/Desktop/grant innowacyjność/Geografia energetyki rozproszonej SGH OPUS Jesień 2023/Dane PSE/Ostateczne_wyniki_aukcji_2022_p4.csv',skiprows=0))\n",
    "Auction2022_p5=pd.DataFrame(pd.read_csv('/Users/krzysztofwasniewski/Desktop/grant innowacyjność/Geografia energetyki rozproszonej SGH OPUS Jesień 2023/Dane PSE/Ostateczne_wyniki_aukcji_2022_p5.csv',skiprows=0))\n",
    "Auction2022_p6=pd.DataFrame(pd.read_csv('/Users/krzysztofwasniewski/Desktop/grant innowacyjność/Geografia energetyki rozproszonej SGH OPUS Jesień 2023/Dane PSE/Ostateczne_wyniki_aukcji_2022_p6.csv',skiprows=0))\n",
    "Auction2022_p7=pd.DataFrame(pd.read_csv('/Users/krzysztofwasniewski/Desktop/grant innowacyjność/Geografia energetyki rozproszonej SGH OPUS Jesień 2023/Dane PSE/Ostateczne_wyniki_aukcji_2022_p7.csv',skiprows=0))\n",
    "Auction2022_p8=pd.DataFrame(pd.read_csv('/Users/krzysztofwasniewski/Desktop/grant innowacyjność/Geografia energetyki rozproszonej SGH OPUS Jesień 2023/Dane PSE/Ostateczne_wyniki_aukcji_2022_p8.csv',skiprows=0))\n",
    "Auction2022_p9=pd.DataFrame(pd.read_csv('/Users/krzysztofwasniewski/Desktop/grant innowacyjność/Geografia energetyki rozproszonej SGH OPUS Jesień 2023/Dane PSE/Ostateczne_wyniki_aukcji_2022_p9.csv',skiprows=0))\n"
   ]
  },
  {
   "cell_type": "code",
   "execution_count": 11,
   "id": "a3c0f63e-5853-4910-b587-41c4e394bd6a",
   "metadata": {},
   "outputs": [],
   "source": [
    "Auction2022=pd.concat([Auction2022_p2,Auction2022_p3,Auction2022_p4, Auction2022_p5,Auction2022_p7,Auction2022_p8,Auction2022_p9])"
   ]
  },
  {
   "cell_type": "code",
   "execution_count": 12,
   "id": "f097ce97-1755-4f09-8b84-172a3fb4cc4c",
   "metadata": {},
   "outputs": [],
   "source": [
    "Auction2022.to_excel('/Users/krzysztofwasniewski/Desktop/Auction2022.xlsx')"
   ]
  },
  {
   "cell_type": "code",
   "execution_count": 13,
   "id": "80f27836-da61-4dba-9b34-cc40451653e5",
   "metadata": {},
   "outputs": [],
   "source": [
    "Auction_2021_p2_CSV=tabula.convert_into('/Users/krzysztofwasniewski/Desktop/grant innowacyjność/Geografia energetyki rozproszonej SGH OPUS Jesień 2023/Dane PSE/Ostateczne_wyniki_aukcji_2021.pdf','/Users/krzysztofwasniewski/Desktop/grant innowacyjność/Geografia energetyki rozproszonej SGH OPUS Jesień 2023/Dane PSE/Ostateczne_wyniki_aukcji_2021_p2.csv',pages=[2])\n",
    "Auction_2021_p3_CSV=tabula.convert_into('/Users/krzysztofwasniewski/Desktop/grant innowacyjność/Geografia energetyki rozproszonej SGH OPUS Jesień 2023/Dane PSE/Ostateczne_wyniki_aukcji_2021.pdf','/Users/krzysztofwasniewski/Desktop/grant innowacyjność/Geografia energetyki rozproszonej SGH OPUS Jesień 2023/Dane PSE/Ostateczne_wyniki_aukcji_2021_p3.csv',pages=[3])\n",
    "Auction_2021_p4_CSV=tabula.convert_into('/Users/krzysztofwasniewski/Desktop/grant innowacyjność/Geografia energetyki rozproszonej SGH OPUS Jesień 2023/Dane PSE/Ostateczne_wyniki_aukcji_2021.pdf','/Users/krzysztofwasniewski/Desktop/grant innowacyjność/Geografia energetyki rozproszonej SGH OPUS Jesień 2023/Dane PSE/Ostateczne_wyniki_aukcji_2021_p4.csv',pages=[4])\n",
    "Auction_2021_p5_CSV=tabula.convert_into('/Users/krzysztofwasniewski/Desktop/grant innowacyjność/Geografia energetyki rozproszonej SGH OPUS Jesień 2023/Dane PSE/Ostateczne_wyniki_aukcji_2021.pdf','/Users/krzysztofwasniewski/Desktop/grant innowacyjność/Geografia energetyki rozproszonej SGH OPUS Jesień 2023/Dane PSE/Ostateczne_wyniki_aukcji_2021_p5.csv',pages=[5])\n",
    "Auction_2021_p6_CSV=tabula.convert_into('/Users/krzysztofwasniewski/Desktop/grant innowacyjność/Geografia energetyki rozproszonej SGH OPUS Jesień 2023/Dane PSE/Ostateczne_wyniki_aukcji_2021.pdf','/Users/krzysztofwasniewski/Desktop/grant innowacyjność/Geografia energetyki rozproszonej SGH OPUS Jesień 2023/Dane PSE/Ostateczne_wyniki_aukcji_2021_p6.csv',pages=[6])\n",
    "Auction_2021_p7_CSV=tabula.convert_into('/Users/krzysztofwasniewski/Desktop/grant innowacyjność/Geografia energetyki rozproszonej SGH OPUS Jesień 2023/Dane PSE/Ostateczne_wyniki_aukcji_2021.pdf','/Users/krzysztofwasniewski/Desktop/grant innowacyjność/Geografia energetyki rozproszonej SGH OPUS Jesień 2023/Dane PSE/Ostateczne_wyniki_aukcji_2021_p7.csv',pages=[7])\n",
    "Auction_2021_p8_CSV=tabula.convert_into('/Users/krzysztofwasniewski/Desktop/grant innowacyjność/Geografia energetyki rozproszonej SGH OPUS Jesień 2023/Dane PSE/Ostateczne_wyniki_aukcji_2021.pdf','/Users/krzysztofwasniewski/Desktop/grant innowacyjność/Geografia energetyki rozproszonej SGH OPUS Jesień 2023/Dane PSE/Ostateczne_wyniki_aukcji_2021_p8.csv',pages=[8])\n",
    "Auction_2021_p9_CSV=tabula.convert_into('/Users/krzysztofwasniewski/Desktop/grant innowacyjność/Geografia energetyki rozproszonej SGH OPUS Jesień 2023/Dane PSE/Ostateczne_wyniki_aukcji_2021.pdf','/Users/krzysztofwasniewski/Desktop/grant innowacyjność/Geografia energetyki rozproszonej SGH OPUS Jesień 2023/Dane PSE/Ostateczne_wyniki_aukcji_2021_p9.csv',pages=[9])\n",
    "Auction_2021_p10_CSV=tabula.convert_into('/Users/krzysztofwasniewski/Desktop/grant innowacyjność/Geografia energetyki rozproszonej SGH OPUS Jesień 2023/Dane PSE/Ostateczne_wyniki_aukcji_2021.pdf','/Users/krzysztofwasniewski/Desktop/grant innowacyjność/Geografia energetyki rozproszonej SGH OPUS Jesień 2023/Dane PSE/Ostateczne_wyniki_aukcji_2021_p10.csv',pages=[10])\n",
    "Auction_2021_p11_CSV=tabula.convert_into('/Users/krzysztofwasniewski/Desktop/grant innowacyjność/Geografia energetyki rozproszonej SGH OPUS Jesień 2023/Dane PSE/Ostateczne_wyniki_aukcji_2021.pdf','/Users/krzysztofwasniewski/Desktop/grant innowacyjność/Geografia energetyki rozproszonej SGH OPUS Jesień 2023/Dane PSE/Ostateczne_wyniki_aukcji_2021_p11.csv',pages=[11])\n",
    "Auction_2021_p12_CSV=tabula.convert_into('/Users/krzysztofwasniewski/Desktop/grant innowacyjność/Geografia energetyki rozproszonej SGH OPUS Jesień 2023/Dane PSE/Ostateczne_wyniki_aukcji_2021.pdf','/Users/krzysztofwasniewski/Desktop/grant innowacyjność/Geografia energetyki rozproszonej SGH OPUS Jesień 2023/Dane PSE/Ostateczne_wyniki_aukcji_2021_p12.csv',pages=[12])\n"
   ]
  },
  {
   "cell_type": "code",
   "execution_count": 14,
   "id": "b4a219a9-b8a2-41c6-b467-9f76d0bf64d4",
   "metadata": {},
   "outputs": [],
   "source": [
    "Auction2021_p2=pd.DataFrame(pd.read_csv('/Users/krzysztofwasniewski/Desktop/grant innowacyjność/Geografia energetyki rozproszonej SGH OPUS Jesień 2023/Dane PSE/Ostateczne_wyniki_aukcji_2021_p2.csv',skiprows=0))\n",
    "Auction2021_p3=pd.DataFrame(pd.read_csv('/Users/krzysztofwasniewski/Desktop/grant innowacyjność/Geografia energetyki rozproszonej SGH OPUS Jesień 2023/Dane PSE/Ostateczne_wyniki_aukcji_2021_p3.csv',skiprows=0))\n",
    "Auction2021_p4=pd.DataFrame(pd.read_csv('/Users/krzysztofwasniewski/Desktop/grant innowacyjność/Geografia energetyki rozproszonej SGH OPUS Jesień 2023/Dane PSE/Ostateczne_wyniki_aukcji_2021_p4.csv',skiprows=0))\n",
    "Auction2021_p5=pd.DataFrame(pd.read_csv('/Users/krzysztofwasniewski/Desktop/grant innowacyjność/Geografia energetyki rozproszonej SGH OPUS Jesień 2023/Dane PSE/Ostateczne_wyniki_aukcji_2021_p5.csv',skiprows=0))\n",
    "Auction2021_p6=pd.DataFrame(pd.read_csv('/Users/krzysztofwasniewski/Desktop/grant innowacyjność/Geografia energetyki rozproszonej SGH OPUS Jesień 2023/Dane PSE/Ostateczne_wyniki_aukcji_2021_p6.csv',skiprows=0))\n",
    "Auction2021_p7=pd.DataFrame(pd.read_csv('/Users/krzysztofwasniewski/Desktop/grant innowacyjność/Geografia energetyki rozproszonej SGH OPUS Jesień 2023/Dane PSE/Ostateczne_wyniki_aukcji_2021_p7.csv',skiprows=0))\n",
    "Auction2021_p8=pd.DataFrame(pd.read_csv('/Users/krzysztofwasniewski/Desktop/grant innowacyjność/Geografia energetyki rozproszonej SGH OPUS Jesień 2023/Dane PSE/Ostateczne_wyniki_aukcji_2021_p8.csv',skiprows=0))\n",
    "Auction2021_p9=pd.DataFrame(pd.read_csv('/Users/krzysztofwasniewski/Desktop/grant innowacyjność/Geografia energetyki rozproszonej SGH OPUS Jesień 2023/Dane PSE/Ostateczne_wyniki_aukcji_2021_p9.csv',skiprows=0))\n",
    "Auction2021_p10=pd.DataFrame(pd.read_csv('/Users/krzysztofwasniewski/Desktop/grant innowacyjność/Geografia energetyki rozproszonej SGH OPUS Jesień 2023/Dane PSE/Ostateczne_wyniki_aukcji_2021_p10.csv',skiprows=0))\n",
    "Auction2021_p11=pd.DataFrame(pd.read_csv('/Users/krzysztofwasniewski/Desktop/grant innowacyjność/Geografia energetyki rozproszonej SGH OPUS Jesień 2023/Dane PSE/Ostateczne_wyniki_aukcji_2021_p11.csv',skiprows=0))\n",
    "Auction2021_p12=pd.DataFrame(pd.read_csv('/Users/krzysztofwasniewski/Desktop/grant innowacyjność/Geografia energetyki rozproszonej SGH OPUS Jesień 2023/Dane PSE/Ostateczne_wyniki_aukcji_2021_p12.csv',skiprows=0))\n"
   ]
  },
  {
   "cell_type": "code",
   "execution_count": 15,
   "id": "d203c37c-1ba7-4d66-ac18-e9436725f96c",
   "metadata": {},
   "outputs": [],
   "source": [
    "Auction2021=pd.concat([Auction2021_p2,Auction2021_p3,Auction2021_p4, Auction2021_p5,Auction2021_p7,Auction2021_p8,\n",
    "                      Auction2021_p9,Auction2021_p10,Auction2021_p11,Auction2021_p12])"
   ]
  },
  {
   "cell_type": "code",
   "execution_count": 16,
   "id": "2e56ed88-cfaa-4bce-af5b-4e54250c7097",
   "metadata": {},
   "outputs": [],
   "source": [
    "Auction2021.to_excel('/Users/krzysztofwasniewski/Desktop/Auction2021.xlsx')"
   ]
  },
  {
   "cell_type": "code",
   "execution_count": 5,
   "id": "73474bd5-14cc-4e19-baf7-de3bba000954",
   "metadata": {},
   "outputs": [],
   "source": [
    "AuxAuction2021_CSV_p2=tabula.convert_into('/Users/krzysztofwasniewski/Desktop/grant innowacyjność/Geografia energetyki rozproszonej SGH OPUS Jesień 2023/Dane PSE/Aukcje_dodatkowe_2021.pdf','/Users/krzysztofwasniewski/Desktop/grant innowacyjność/Geografia energetyki rozproszonej SGH OPUS Jesień 2023/Dane PSE/Aukcje_dodatkowe_2021_p2.csv',pages=[2])\n",
    "AuxAuction2021_CSV_p3=tabula.convert_into('/Users/krzysztofwasniewski/Desktop/grant innowacyjność/Geografia energetyki rozproszonej SGH OPUS Jesień 2023/Dane PSE/Aukcje_dodatkowe_2021.pdf','/Users/krzysztofwasniewski/Desktop/grant innowacyjność/Geografia energetyki rozproszonej SGH OPUS Jesień 2023/Dane PSE/Aukcje_dodatkowe_2021_p3.csv',pages=[3])\n",
    "AuxAuction2021_CSV_p4=tabula.convert_into('/Users/krzysztofwasniewski/Desktop/grant innowacyjność/Geografia energetyki rozproszonej SGH OPUS Jesień 2023/Dane PSE/Aukcje_dodatkowe_2021.pdf','/Users/krzysztofwasniewski/Desktop/grant innowacyjność/Geografia energetyki rozproszonej SGH OPUS Jesień 2023/Dane PSE/Aukcje_dodatkowe_2021_p4.csv',pages=[4])\n",
    "AuxAuction2021_CSV_p5=tabula.convert_into('/Users/krzysztofwasniewski/Desktop/grant innowacyjność/Geografia energetyki rozproszonej SGH OPUS Jesień 2023/Dane PSE/Aukcje_dodatkowe_2021.pdf','/Users/krzysztofwasniewski/Desktop/grant innowacyjność/Geografia energetyki rozproszonej SGH OPUS Jesień 2023/Dane PSE/Aukcje_dodatkowe_2021_p5.csv',pages=[5])\n",
    "AuxAuction2021_CSV_p6=tabula.convert_into('/Users/krzysztofwasniewski/Desktop/grant innowacyjność/Geografia energetyki rozproszonej SGH OPUS Jesień 2023/Dane PSE/Aukcje_dodatkowe_2021.pdf','/Users/krzysztofwasniewski/Desktop/grant innowacyjność/Geografia energetyki rozproszonej SGH OPUS Jesień 2023/Dane PSE/Aukcje_dodatkowe_2021_p6.csv',pages=[6])\n",
    "AuxAuction2021_CSV_p7=tabula.convert_into('/Users/krzysztofwasniewski/Desktop/grant innowacyjność/Geografia energetyki rozproszonej SGH OPUS Jesień 2023/Dane PSE/Aukcje_dodatkowe_2021.pdf','/Users/krzysztofwasniewski/Desktop/grant innowacyjność/Geografia energetyki rozproszonej SGH OPUS Jesień 2023/Dane PSE/Aukcje_dodatkowe_2021_p7.csv',pages=[7])\n"
   ]
  },
  {
   "cell_type": "code",
   "execution_count": 7,
   "id": "b9a9ccc1-17f7-4b15-b293-6839cfe05b0c",
   "metadata": {},
   "outputs": [],
   "source": [
    "AuxAuction2021_p2=pd.DataFrame(pd.read_csv('/Users/krzysztofwasniewski/Desktop/grant innowacyjność/Geografia energetyki rozproszonej SGH OPUS Jesień 2023/Dane PSE/Aukcje_dodatkowe_2021_p2.csv',skiprows=0))\n",
    "AuxAuction2021_p3=pd.DataFrame(pd.read_csv('/Users/krzysztofwasniewski/Desktop/grant innowacyjność/Geografia energetyki rozproszonej SGH OPUS Jesień 2023/Dane PSE/Aukcje_dodatkowe_2021_p3.csv',skiprows=0))\n",
    "AuxAuction2021_p4=pd.DataFrame(pd.read_csv('/Users/krzysztofwasniewski/Desktop/grant innowacyjność/Geografia energetyki rozproszonej SGH OPUS Jesień 2023/Dane PSE/Aukcje_dodatkowe_2021_p4.csv',skiprows=0))\n",
    "AuxAuction2021_p5=pd.DataFrame(pd.read_csv('/Users/krzysztofwasniewski/Desktop/grant innowacyjność/Geografia energetyki rozproszonej SGH OPUS Jesień 2023/Dane PSE/Aukcje_dodatkowe_2021_p5.csv',skiprows=0))\n",
    "AuxAuction2021_p6=pd.DataFrame(pd.read_csv('/Users/krzysztofwasniewski/Desktop/grant innowacyjność/Geografia energetyki rozproszonej SGH OPUS Jesień 2023/Dane PSE/Aukcje_dodatkowe_2021_p6.csv',skiprows=0))\n",
    "AuxAuction2021_p7=pd.DataFrame(pd.read_csv('/Users/krzysztofwasniewski/Desktop/grant innowacyjność/Geografia energetyki rozproszonej SGH OPUS Jesień 2023/Dane PSE/Aukcje_dodatkowe_2021_p7.csv',skiprows=0))\n"
   ]
  },
  {
   "cell_type": "code",
   "execution_count": 9,
   "id": "b3c6cbdf-4323-42f5-aa45-cd98901d541a",
   "metadata": {},
   "outputs": [],
   "source": [
    "AuxAuction2021=pd.concat([AuxAuction2021_p2,AuxAuction2021_p3,AuxAuction2021_p4,AuxAuction2021_p5,AuxAuction2021_p6,AuxAuction2021_p7])"
   ]
  },
  {
   "cell_type": "code",
   "execution_count": 10,
   "id": "505ef370-d700-4bd2-b70e-ea5e9be54897",
   "metadata": {},
   "outputs": [],
   "source": [
    "AuxAuction2021.to_excel('/Users/krzysztofwasniewski/Desktop/AuxAuction2021.xlsx')"
   ]
  },
  {
   "cell_type": "code",
   "execution_count": 11,
   "id": "dfc3496d-1b4b-42bd-b52d-a75f34cdfbb9",
   "metadata": {},
   "outputs": [],
   "source": [
    "AuxAuction2022_CSV_p2=tabula.convert_into('/Users/krzysztofwasniewski/Desktop/grant innowacyjność/Geografia energetyki rozproszonej SGH OPUS Jesień 2023/Dane PSE/Aukcje_dodatkowe_2022.pdf','/Users/krzysztofwasniewski/Desktop/grant innowacyjność/Geografia energetyki rozproszonej SGH OPUS Jesień 2023/Dane PSE/Aukcje_dodatkowe_2022_p2.csv',pages=[2])\n",
    "AuxAuction2022_CSV_p3=tabula.convert_into('/Users/krzysztofwasniewski/Desktop/grant innowacyjność/Geografia energetyki rozproszonej SGH OPUS Jesień 2023/Dane PSE/Aukcje_dodatkowe_2022.pdf','/Users/krzysztofwasniewski/Desktop/grant innowacyjność/Geografia energetyki rozproszonej SGH OPUS Jesień 2023/Dane PSE/Aukcje_dodatkowe_2022_p3.csv',pages=[3])\n",
    "AuxAuction2022_CSV_p4=tabula.convert_into('/Users/krzysztofwasniewski/Desktop/grant innowacyjność/Geografia energetyki rozproszonej SGH OPUS Jesień 2023/Dane PSE/Aukcje_dodatkowe_2022.pdf','/Users/krzysztofwasniewski/Desktop/grant innowacyjność/Geografia energetyki rozproszonej SGH OPUS Jesień 2023/Dane PSE/Aukcje_dodatkowe_2022_p4.csv',pages=[4])\n",
    "AuxAuction2022_CSV_p5=tabula.convert_into('/Users/krzysztofwasniewski/Desktop/grant innowacyjność/Geografia energetyki rozproszonej SGH OPUS Jesień 2023/Dane PSE/Aukcje_dodatkowe_2022.pdf','/Users/krzysztofwasniewski/Desktop/grant innowacyjność/Geografia energetyki rozproszonej SGH OPUS Jesień 2023/Dane PSE/Aukcje_dodatkowe_2022_p5.csv',pages=[5])\n",
    "AuxAuction2022_CSV_p6=tabula.convert_into('/Users/krzysztofwasniewski/Desktop/grant innowacyjność/Geografia energetyki rozproszonej SGH OPUS Jesień 2023/Dane PSE/Aukcje_dodatkowe_2022.pdf','/Users/krzysztofwasniewski/Desktop/grant innowacyjność/Geografia energetyki rozproszonej SGH OPUS Jesień 2023/Dane PSE/Aukcje_dodatkowe_2022_p6.csv',pages=[6])\n",
    "AuxAuction2022_CSV_p7=tabula.convert_into('/Users/krzysztofwasniewski/Desktop/grant innowacyjność/Geografia energetyki rozproszonej SGH OPUS Jesień 2023/Dane PSE/Aukcje_dodatkowe_2022.pdf','/Users/krzysztofwasniewski/Desktop/grant innowacyjność/Geografia energetyki rozproszonej SGH OPUS Jesień 2023/Dane PSE/Aukcje_dodatkowe_2022_p7.csv',pages=[7])\n",
    "AuxAuction2022_CSV_p8=tabula.convert_into('/Users/krzysztofwasniewski/Desktop/grant innowacyjność/Geografia energetyki rozproszonej SGH OPUS Jesień 2023/Dane PSE/Aukcje_dodatkowe_2022.pdf','/Users/krzysztofwasniewski/Desktop/grant innowacyjność/Geografia energetyki rozproszonej SGH OPUS Jesień 2023/Dane PSE/Aukcje_dodatkowe_2022_p8.csv',pages=[8])\n",
    "AuxAuction2022_CSV_p9=tabula.convert_into('/Users/krzysztofwasniewski/Desktop/grant innowacyjność/Geografia energetyki rozproszonej SGH OPUS Jesień 2023/Dane PSE/Aukcje_dodatkowe_2022.pdf','/Users/krzysztofwasniewski/Desktop/grant innowacyjność/Geografia energetyki rozproszonej SGH OPUS Jesień 2023/Dane PSE/Aukcje_dodatkowe_2022_p9.csv',pages=[9])\n",
    "AuxAuction2022_CSV_p10=tabula.convert_into('/Users/krzysztofwasniewski/Desktop/grant innowacyjność/Geografia energetyki rozproszonej SGH OPUS Jesień 2023/Dane PSE/Aukcje_dodatkowe_2022.pdf','/Users/krzysztofwasniewski/Desktop/grant innowacyjność/Geografia energetyki rozproszonej SGH OPUS Jesień 2023/Dane PSE/Aukcje_dodatkowe_2022_p10.csv',pages=[10])\n",
    "AuxAuction2022_CSV_p11=tabula.convert_into('/Users/krzysztofwasniewski/Desktop/grant innowacyjność/Geografia energetyki rozproszonej SGH OPUS Jesień 2023/Dane PSE/Aukcje_dodatkowe_2022.pdf','/Users/krzysztofwasniewski/Desktop/grant innowacyjność/Geografia energetyki rozproszonej SGH OPUS Jesień 2023/Dane PSE/Aukcje_dodatkowe_2022_p11.csv',pages=[1])\n"
   ]
  },
  {
   "cell_type": "code",
   "execution_count": 14,
   "id": "016c7c9f-1b80-4add-894e-1ebae8d4c958",
   "metadata": {},
   "outputs": [],
   "source": [
    "AuxAuction2022_p2=pd.DataFrame(pd.read_csv('/Users/krzysztofwasniewski/Desktop/grant innowacyjność/Geografia energetyki rozproszonej SGH OPUS Jesień 2023/Dane PSE/Aukcje_dodatkowe_2022_p2.csv',skiprows=0))\n",
    "AuxAuction2022_p3=pd.DataFrame(pd.read_csv('/Users/krzysztofwasniewski/Desktop/grant innowacyjność/Geografia energetyki rozproszonej SGH OPUS Jesień 2023/Dane PSE/Aukcje_dodatkowe_2022_p3.csv',skiprows=0))\n",
    "AuxAuction2022_p4=pd.DataFrame(pd.read_csv('/Users/krzysztofwasniewski/Desktop/grant innowacyjność/Geografia energetyki rozproszonej SGH OPUS Jesień 2023/Dane PSE/Aukcje_dodatkowe_2022_p4.csv',skiprows=0))\n",
    "AuxAuction2022_p5=pd.DataFrame(pd.read_csv('/Users/krzysztofwasniewski/Desktop/grant innowacyjność/Geografia energetyki rozproszonej SGH OPUS Jesień 2023/Dane PSE/Aukcje_dodatkowe_2022_p5.csv',skiprows=0))\n",
    "AuxAuction2022_p6=pd.DataFrame(pd.read_csv('/Users/krzysztofwasniewski/Desktop/grant innowacyjność/Geografia energetyki rozproszonej SGH OPUS Jesień 2023/Dane PSE/Aukcje_dodatkowe_2022_p6.csv',skiprows=0))\n",
    "AuxAuction2022_p7=pd.DataFrame(pd.read_csv('/Users/krzysztofwasniewski/Desktop/grant innowacyjność/Geografia energetyki rozproszonej SGH OPUS Jesień 2023/Dane PSE/Aukcje_dodatkowe_2022_p7.csv',skiprows=0))\n",
    "AuxAuction2022_p8=pd.DataFrame(pd.read_csv('/Users/krzysztofwasniewski/Desktop/grant innowacyjność/Geografia energetyki rozproszonej SGH OPUS Jesień 2023/Dane PSE/Aukcje_dodatkowe_2022_p8.csv',skiprows=0))\n",
    "AuxAuction2022_p9=pd.DataFrame(pd.read_csv('/Users/krzysztofwasniewski/Desktop/grant innowacyjność/Geografia energetyki rozproszonej SGH OPUS Jesień 2023/Dane PSE/Aukcje_dodatkowe_2022_p9.csv',skiprows=0))\n",
    "AuxAuction2022_p10=pd.DataFrame(pd.read_csv('/Users/krzysztofwasniewski/Desktop/grant innowacyjność/Geografia energetyki rozproszonej SGH OPUS Jesień 2023/Dane PSE/Aukcje_dodatkowe_2022_p10.csv',skiprows=0))\n",
    "AuxAuction2022_p11=pd.DataFrame(pd.read_csv('/Users/krzysztofwasniewski/Desktop/grant innowacyjność/Geografia energetyki rozproszonej SGH OPUS Jesień 2023/Dane PSE/Aukcje_dodatkowe_2022_p11.csv',skiprows=0))\n"
   ]
  },
  {
   "cell_type": "code",
   "execution_count": 15,
   "id": "283f0dd9-26a6-4a9c-a1d8-0e1d22f4ea15",
   "metadata": {},
   "outputs": [],
   "source": [
    "AuxAuction2022=pd.concat([AuxAuction2022_p2,AuxAuction2022_p3,AuxAuction2022_p4,AuxAuction2022_p5,\n",
    "                         AuxAuction2022_p6,AuxAuction2022_p7,AuxAuction2022_p8,AuxAuction2022_p9,\n",
    "                         AuxAuction2022_p10,AuxAuction2022_p11])"
   ]
  },
  {
   "cell_type": "code",
   "execution_count": 16,
   "id": "9f8df359-f7f5-4de0-8055-920b8e4a1d53",
   "metadata": {},
   "outputs": [],
   "source": [
    "AuxAuction2022.to_excel('/Users/krzysztofwasniewski/Desktop/AuxAuction2022.xlsx')"
   ]
  },
  {
   "cell_type": "code",
   "execution_count": 19,
   "id": "a180de90-ed86-4666-8034-61ddc15b26a6",
   "metadata": {},
   "outputs": [],
   "source": [
    "AuxAuction2023_CSV_p2=tabula.convert_into('/Users/krzysztofwasniewski/Desktop/grant innowacyjność/Geografia energetyki rozproszonej SGH OPUS Jesień 2023/Dane PSE/Aukcje_dodatkowe_2023.pdf','/Users/krzysztofwasniewski/Desktop/grant innowacyjność/Geografia energetyki rozproszonej SGH OPUS Jesień 2023/Dane PSE/Aukcje_dodatkowe_2023_p2.csv',pages=[2])\n",
    "AuxAuction2023_CSV_p3=tabula.convert_into('/Users/krzysztofwasniewski/Desktop/grant innowacyjność/Geografia energetyki rozproszonej SGH OPUS Jesień 2023/Dane PSE/Aukcje_dodatkowe_2023.pdf','/Users/krzysztofwasniewski/Desktop/grant innowacyjność/Geografia energetyki rozproszonej SGH OPUS Jesień 2023/Dane PSE/Aukcje_dodatkowe_2023_p3.csv',pages=[3])\n",
    "AuxAuction2023_CSV_p4=tabula.convert_into('/Users/krzysztofwasniewski/Desktop/grant innowacyjność/Geografia energetyki rozproszonej SGH OPUS Jesień 2023/Dane PSE/Aukcje_dodatkowe_2023.pdf','/Users/krzysztofwasniewski/Desktop/grant innowacyjność/Geografia energetyki rozproszonej SGH OPUS Jesień 2023/Dane PSE/Aukcje_dodatkowe_2023_p4.csv',pages=[4])\n",
    "AuxAuction2023_CSV_p5=tabula.convert_into('/Users/krzysztofwasniewski/Desktop/grant innowacyjność/Geografia energetyki rozproszonej SGH OPUS Jesień 2023/Dane PSE/Aukcje_dodatkowe_2023.pdf','/Users/krzysztofwasniewski/Desktop/grant innowacyjność/Geografia energetyki rozproszonej SGH OPUS Jesień 2023/Dane PSE/Aukcje_dodatkowe_2023_p5.csv',pages=[5])\n",
    "AuxAuction2023_CSV_p6=tabula.convert_into('/Users/krzysztofwasniewski/Desktop/grant innowacyjność/Geografia energetyki rozproszonej SGH OPUS Jesień 2023/Dane PSE/Aukcje_dodatkowe_2023.pdf','/Users/krzysztofwasniewski/Desktop/grant innowacyjność/Geografia energetyki rozproszonej SGH OPUS Jesień 2023/Dane PSE/Aukcje_dodatkowe_2023_p6.csv',pages=[6])\n",
    "AuxAuction2023_CSV_p7=tabula.convert_into('/Users/krzysztofwasniewski/Desktop/grant innowacyjność/Geografia energetyki rozproszonej SGH OPUS Jesień 2023/Dane PSE/Aukcje_dodatkowe_2023.pdf','/Users/krzysztofwasniewski/Desktop/grant innowacyjność/Geografia energetyki rozproszonej SGH OPUS Jesień 2023/Dane PSE/Aukcje_dodatkowe_2023_p7.csv',pages=[7])\n",
    "AuxAuction2023_CSV_p8=tabula.convert_into('/Users/krzysztofwasniewski/Desktop/grant innowacyjność/Geografia energetyki rozproszonej SGH OPUS Jesień 2023/Dane PSE/Aukcje_dodatkowe_2023.pdf','/Users/krzysztofwasniewski/Desktop/grant innowacyjność/Geografia energetyki rozproszonej SGH OPUS Jesień 2023/Dane PSE/Aukcje_dodatkowe_2023_p8.csv',pages=[8])\n",
    "AuxAuction2023_CSV_p9=tabula.convert_into('/Users/krzysztofwasniewski/Desktop/grant innowacyjność/Geografia energetyki rozproszonej SGH OPUS Jesień 2023/Dane PSE/Aukcje_dodatkowe_2023.pdf','/Users/krzysztofwasniewski/Desktop/grant innowacyjność/Geografia energetyki rozproszonej SGH OPUS Jesień 2023/Dane PSE/Aukcje_dodatkowe_2023_p9.csv',pages=[9])\n",
    "AuxAuction2023_CSV_p10=tabula.convert_into('/Users/krzysztofwasniewski/Desktop/grant innowacyjność/Geografia energetyki rozproszonej SGH OPUS Jesień 2023/Dane PSE/Aukcje_dodatkowe_2023.pdf','/Users/krzysztofwasniewski/Desktop/grant innowacyjność/Geografia energetyki rozproszonej SGH OPUS Jesień 2023/Dane PSE/Aukcje_dodatkowe_2023_p10.csv',pages=[10])\n",
    "AuxAuction2023_CSV_p11=tabula.convert_into('/Users/krzysztofwasniewski/Desktop/grant innowacyjność/Geografia energetyki rozproszonej SGH OPUS Jesień 2023/Dane PSE/Aukcje_dodatkowe_2023.pdf','/Users/krzysztofwasniewski/Desktop/grant innowacyjność/Geografia energetyki rozproszonej SGH OPUS Jesień 2023/Dane PSE/Aukcje_dodatkowe_2023_p11.csv',pages=[11])\n"
   ]
  },
  {
   "cell_type": "code",
   "execution_count": 20,
   "id": "d8b628bd-d6fc-450e-b799-fb4c752701b5",
   "metadata": {},
   "outputs": [],
   "source": [
    "AuxAuction2023_p2=pd.DataFrame(pd.read_csv('/Users/krzysztofwasniewski/Desktop/grant innowacyjność/Geografia energetyki rozproszonej SGH OPUS Jesień 2023/Dane PSE/Aukcje_dodatkowe_2023_p2.csv',skiprows=0))\n",
    "AuxAuction2023_p3=pd.DataFrame(pd.read_csv('/Users/krzysztofwasniewski/Desktop/grant innowacyjność/Geografia energetyki rozproszonej SGH OPUS Jesień 2023/Dane PSE/Aukcje_dodatkowe_2023_p3.csv',skiprows=0))\n",
    "AuxAuction2023_p4=pd.DataFrame(pd.read_csv('/Users/krzysztofwasniewski/Desktop/grant innowacyjność/Geografia energetyki rozproszonej SGH OPUS Jesień 2023/Dane PSE/Aukcje_dodatkowe_2023_p4.csv',skiprows=0))\n",
    "AuxAuction2023_p5=pd.DataFrame(pd.read_csv('/Users/krzysztofwasniewski/Desktop/grant innowacyjność/Geografia energetyki rozproszonej SGH OPUS Jesień 2023/Dane PSE/Aukcje_dodatkowe_2023_p5.csv',skiprows=0))\n",
    "AuxAuction2023_p6=pd.DataFrame(pd.read_csv('/Users/krzysztofwasniewski/Desktop/grant innowacyjność/Geografia energetyki rozproszonej SGH OPUS Jesień 2023/Dane PSE/Aukcje_dodatkowe_2023_p6.csv',skiprows=0))\n",
    "AuxAuction2023_p7=pd.DataFrame(pd.read_csv('/Users/krzysztofwasniewski/Desktop/grant innowacyjność/Geografia energetyki rozproszonej SGH OPUS Jesień 2023/Dane PSE/Aukcje_dodatkowe_2023_p7.csv',skiprows=0))\n",
    "AuxAuction2023_p8=pd.DataFrame(pd.read_csv('/Users/krzysztofwasniewski/Desktop/grant innowacyjność/Geografia energetyki rozproszonej SGH OPUS Jesień 2023/Dane PSE/Aukcje_dodatkowe_2023_p8.csv',skiprows=0))\n",
    "AuxAuction2023_p9=pd.DataFrame(pd.read_csv('/Users/krzysztofwasniewski/Desktop/grant innowacyjność/Geografia energetyki rozproszonej SGH OPUS Jesień 2023/Dane PSE/Aukcje_dodatkowe_2023_p9.csv',skiprows=0))\n",
    "AuxAuction2023_p10=pd.DataFrame(pd.read_csv('/Users/krzysztofwasniewski/Desktop/grant innowacyjność/Geografia energetyki rozproszonej SGH OPUS Jesień 2023/Dane PSE/Aukcje_dodatkowe_2023_p10.csv',skiprows=0))\n",
    "AuxAuction2023_p11=pd.DataFrame(pd.read_csv('/Users/krzysztofwasniewski/Desktop/grant innowacyjność/Geografia energetyki rozproszonej SGH OPUS Jesień 2023/Dane PSE/Aukcje_dodatkowe_2023_p11.csv',skiprows=0))\n"
   ]
  },
  {
   "cell_type": "code",
   "execution_count": 21,
   "id": "f21554da-ca6b-4180-abe2-7088a156d52c",
   "metadata": {},
   "outputs": [],
   "source": [
    "AuxAuction2023=pd.concat([AuxAuction2023_p2,AuxAuction2023_p3,AuxAuction2023_p4,AuxAuction2023_p5,\n",
    "                         AuxAuction2023_p6,AuxAuction2023_p7,AuxAuction2023_p8,AuxAuction2023_p9,\n",
    "                         AuxAuction2023_p10,AuxAuction2023_p11])"
   ]
  },
  {
   "cell_type": "code",
   "execution_count": 22,
   "id": "9c356527-9516-4f9d-978f-3930eb5bc8ca",
   "metadata": {},
   "outputs": [],
   "source": [
    "AuxAuction2023.to_excel('/Users/krzysztofwasniewski/Desktop/AuxAuction2023.xlsx')"
   ]
  },
  {
   "cell_type": "code",
   "execution_count": 23,
   "id": "8602e6bb-10fd-40ca-a389-a2358228ba2b",
   "metadata": {},
   "outputs": [],
   "source": [
    "AuxAuction2024_CSV_p2=tabula.convert_into('/Users/krzysztofwasniewski/Desktop/grant innowacyjność/Geografia energetyki rozproszonej SGH OPUS Jesień 2023/Dane PSE/Aukcje_dodatkowe_2024.pdf','/Users/krzysztofwasniewski/Desktop/grant innowacyjność/Geografia energetyki rozproszonej SGH OPUS Jesień 2023/Dane PSE/Aukcje_dodatkowe_2024_p2.csv',pages=[2])\n",
    "AuxAuction2024_CSV_p3=tabula.convert_into('/Users/krzysztofwasniewski/Desktop/grant innowacyjność/Geografia energetyki rozproszonej SGH OPUS Jesień 2023/Dane PSE/Aukcje_dodatkowe_2024.pdf','/Users/krzysztofwasniewski/Desktop/grant innowacyjność/Geografia energetyki rozproszonej SGH OPUS Jesień 2023/Dane PSE/Aukcje_dodatkowe_2024_p3.csv',pages=[3])\n",
    "AuxAuction2024_CSV_p4=tabula.convert_into('/Users/krzysztofwasniewski/Desktop/grant innowacyjność/Geografia energetyki rozproszonej SGH OPUS Jesień 2023/Dane PSE/Aukcje_dodatkowe_2024.pdf','/Users/krzysztofwasniewski/Desktop/grant innowacyjność/Geografia energetyki rozproszonej SGH OPUS Jesień 2023/Dane PSE/Aukcje_dodatkowe_2024_p4.csv',pages=[4])\n",
    "AuxAuction2024_CSV_p5=tabula.convert_into('/Users/krzysztofwasniewski/Desktop/grant innowacyjność/Geografia energetyki rozproszonej SGH OPUS Jesień 2023/Dane PSE/Aukcje_dodatkowe_2024.pdf','/Users/krzysztofwasniewski/Desktop/grant innowacyjność/Geografia energetyki rozproszonej SGH OPUS Jesień 2023/Dane PSE/Aukcje_dodatkowe_2024_p5.csv',pages=[5])\n",
    "AuxAuction2024_CSV_p6=tabula.convert_into('/Users/krzysztofwasniewski/Desktop/grant innowacyjność/Geografia energetyki rozproszonej SGH OPUS Jesień 2023/Dane PSE/Aukcje_dodatkowe_2024.pdf','/Users/krzysztofwasniewski/Desktop/grant innowacyjność/Geografia energetyki rozproszonej SGH OPUS Jesień 2023/Dane PSE/Aukcje_dodatkowe_2024_p6.csv',pages=[6])\n",
    "AuxAuction2024_CSV_p7=tabula.convert_into('/Users/krzysztofwasniewski/Desktop/grant innowacyjność/Geografia energetyki rozproszonej SGH OPUS Jesień 2023/Dane PSE/Aukcje_dodatkowe_2024.pdf','/Users/krzysztofwasniewski/Desktop/grant innowacyjność/Geografia energetyki rozproszonej SGH OPUS Jesień 2023/Dane PSE/Aukcje_dodatkowe_2024_p7.csv',pages=[7])\n",
    "AuxAuction2024_CSV_p8=tabula.convert_into('/Users/krzysztofwasniewski/Desktop/grant innowacyjność/Geografia energetyki rozproszonej SGH OPUS Jesień 2023/Dane PSE/Aukcje_dodatkowe_2024.pdf','/Users/krzysztofwasniewski/Desktop/grant innowacyjność/Geografia energetyki rozproszonej SGH OPUS Jesień 2023/Dane PSE/Aukcje_dodatkowe_2024_p8.csv',pages=[8])\n",
    "AuxAuction2024_CSV_p9=tabula.convert_into('/Users/krzysztofwasniewski/Desktop/grant innowacyjność/Geografia energetyki rozproszonej SGH OPUS Jesień 2023/Dane PSE/Aukcje_dodatkowe_2024.pdf','/Users/krzysztofwasniewski/Desktop/grant innowacyjność/Geografia energetyki rozproszonej SGH OPUS Jesień 2023/Dane PSE/Aukcje_dodatkowe_2024_p9.csv',pages=[9])\n",
    "AuxAuction2024_CSV_p10=tabula.convert_into('/Users/krzysztofwasniewski/Desktop/grant innowacyjność/Geografia energetyki rozproszonej SGH OPUS Jesień 2023/Dane PSE/Aukcje_dodatkowe_2024.pdf','/Users/krzysztofwasniewski/Desktop/grant innowacyjność/Geografia energetyki rozproszonej SGH OPUS Jesień 2023/Dane PSE/Aukcje_dodatkowe_2024_p10.csv',pages=[10])\n",
    "AuxAuction2024_CSV_p11=tabula.convert_into('/Users/krzysztofwasniewski/Desktop/grant innowacyjność/Geografia energetyki rozproszonej SGH OPUS Jesień 2023/Dane PSE/Aukcje_dodatkowe_2024.pdf','/Users/krzysztofwasniewski/Desktop/grant innowacyjność/Geografia energetyki rozproszonej SGH OPUS Jesień 2023/Dane PSE/Aukcje_dodatkowe_2024_p11.csv',pages=[11])\n",
    "AuxAuction2024_CSV_p12=tabula.convert_into('/Users/krzysztofwasniewski/Desktop/grant innowacyjność/Geografia energetyki rozproszonej SGH OPUS Jesień 2023/Dane PSE/Aukcje_dodatkowe_2024.pdf','/Users/krzysztofwasniewski/Desktop/grant innowacyjność/Geografia energetyki rozproszonej SGH OPUS Jesień 2023/Dane PSE/Aukcje_dodatkowe_2024_p12.csv',pages=[12])\n",
    "AuxAuction2024_CSV_p13=tabula.convert_into('/Users/krzysztofwasniewski/Desktop/grant innowacyjność/Geografia energetyki rozproszonej SGH OPUS Jesień 2023/Dane PSE/Aukcje_dodatkowe_2024.pdf','/Users/krzysztofwasniewski/Desktop/grant innowacyjność/Geografia energetyki rozproszonej SGH OPUS Jesień 2023/Dane PSE/Aukcje_dodatkowe_2024_p13.csv',pages=[13])\n"
   ]
  },
  {
   "cell_type": "code",
   "execution_count": 24,
   "id": "2ac9f0e6-82ee-4887-9e45-99c11355a356",
   "metadata": {},
   "outputs": [],
   "source": [
    "AuxAuction2024_p2=pd.DataFrame(pd.read_csv('/Users/krzysztofwasniewski/Desktop/grant innowacyjność/Geografia energetyki rozproszonej SGH OPUS Jesień 2023/Dane PSE/Aukcje_dodatkowe_2024_p2.csv',skiprows=0))\n",
    "AuxAuction2024_p3=pd.DataFrame(pd.read_csv('/Users/krzysztofwasniewski/Desktop/grant innowacyjność/Geografia energetyki rozproszonej SGH OPUS Jesień 2023/Dane PSE/Aukcje_dodatkowe_2024_p3.csv',skiprows=0))\n",
    "AuxAuction2024_p4=pd.DataFrame(pd.read_csv('/Users/krzysztofwasniewski/Desktop/grant innowacyjność/Geografia energetyki rozproszonej SGH OPUS Jesień 2023/Dane PSE/Aukcje_dodatkowe_2024_p4.csv',skiprows=0))\n",
    "AuxAuction2024_p5=pd.DataFrame(pd.read_csv('/Users/krzysztofwasniewski/Desktop/grant innowacyjność/Geografia energetyki rozproszonej SGH OPUS Jesień 2023/Dane PSE/Aukcje_dodatkowe_2024_p5.csv',skiprows=0))\n",
    "AuxAuction2024_p6=pd.DataFrame(pd.read_csv('/Users/krzysztofwasniewski/Desktop/grant innowacyjność/Geografia energetyki rozproszonej SGH OPUS Jesień 2023/Dane PSE/Aukcje_dodatkowe_2024_p6.csv',skiprows=0))\n",
    "AuxAuction2024_p7=pd.DataFrame(pd.read_csv('/Users/krzysztofwasniewski/Desktop/grant innowacyjność/Geografia energetyki rozproszonej SGH OPUS Jesień 2023/Dane PSE/Aukcje_dodatkowe_2024_p7.csv',skiprows=0))\n",
    "AuxAuction2024_p8=pd.DataFrame(pd.read_csv('/Users/krzysztofwasniewski/Desktop/grant innowacyjność/Geografia energetyki rozproszonej SGH OPUS Jesień 2023/Dane PSE/Aukcje_dodatkowe_2024_p8.csv',skiprows=0))\n",
    "AuxAuction2024_p9=pd.DataFrame(pd.read_csv('/Users/krzysztofwasniewski/Desktop/grant innowacyjność/Geografia energetyki rozproszonej SGH OPUS Jesień 2023/Dane PSE/Aukcje_dodatkowe_2024_p9.csv',skiprows=0))\n",
    "AuxAuction2024_p10=pd.DataFrame(pd.read_csv('/Users/krzysztofwasniewski/Desktop/grant innowacyjność/Geografia energetyki rozproszonej SGH OPUS Jesień 2023/Dane PSE/Aukcje_dodatkowe_2024_p10.csv',skiprows=0))\n",
    "AuxAuction2024_p11=pd.DataFrame(pd.read_csv('/Users/krzysztofwasniewski/Desktop/grant innowacyjność/Geografia energetyki rozproszonej SGH OPUS Jesień 2023/Dane PSE/Aukcje_dodatkowe_2024_p11.csv',skiprows=0))\n",
    "AuxAuction2024_p12=pd.DataFrame(pd.read_csv('/Users/krzysztofwasniewski/Desktop/grant innowacyjność/Geografia energetyki rozproszonej SGH OPUS Jesień 2023/Dane PSE/Aukcje_dodatkowe_2024_p12.csv',skiprows=0))\n",
    "AuxAuction2024_p13=pd.DataFrame(pd.read_csv('/Users/krzysztofwasniewski/Desktop/grant innowacyjność/Geografia energetyki rozproszonej SGH OPUS Jesień 2023/Dane PSE/Aukcje_dodatkowe_2024_p13.csv',skiprows=0))\n"
   ]
  },
  {
   "cell_type": "code",
   "execution_count": 25,
   "id": "7ed3c626-edd1-4f51-acc0-ac397d5f6cb7",
   "metadata": {},
   "outputs": [],
   "source": [
    "AuxAuction2024=pd.concat([AuxAuction2024_p2,AuxAuction2024_p3,AuxAuction2024_p4,AuxAuction2024_p5,AuxAuction2024_p6,\n",
    "                         AuxAuction2024_p7,AuxAuction2024_p8,AuxAuction2024_p9,AuxAuction2024_p10,AuxAuction2024_p11,\n",
    "                         AuxAuction2024_p12,AuxAuction2024_p13])"
   ]
  },
  {
   "cell_type": "code",
   "execution_count": 27,
   "id": "045f14ae-b147-419f-92af-c780b3bfddf2",
   "metadata": {},
   "outputs": [],
   "source": [
    "AuxAuction2024.to_excel('/Users/krzysztofwasniewski/Desktop/AuxAuction2024.xlsx')"
   ]
  },
  {
   "cell_type": "code",
   "execution_count": 5,
   "id": "6bbd0eec-81bd-4004-ae71-05a1386cd1f2",
   "metadata": {},
   "outputs": [],
   "source": [
    "Auction_2028_p2_CSV=tabula.convert_into('Ostateczne wyniki aukcji głównej na 2028.pdf','Ostateczne_wyniki_aukcji_2028_p2.csv',pages=[2])\n",
    "Auction_2028_p3_CSV=tabula.convert_into('Ostateczne wyniki aukcji głównej na 2028.pdf','Ostateczne_wyniki_aukcji_2028_p3.csv',pages=[3])\n",
    "Auction_2028_p4_CSV=tabula.convert_into('Ostateczne wyniki aukcji głównej na 2028.pdf','Ostateczne_wyniki_aukcji_2028_p4.csv',pages=[4])\n",
    "Auction_2028_p5_CSV=tabula.convert_into('Ostateczne wyniki aukcji głównej na 2028.pdf','Ostateczne_wyniki_aukcji_2028_p5.csv',pages=[5])\n",
    "Auction_2028_p6_CSV=tabula.convert_into('Ostateczne wyniki aukcji głównej na 2028.pdf','Ostateczne_wyniki_aukcji_2028_p6.csv',pages=[6])\n",
    "Auction_2028_p7_CSV=tabula.convert_into('Ostateczne wyniki aukcji głównej na 2028.pdf','Ostateczne_wyniki_aukcji_2028_p7.csv',pages=[7])\n",
    "Auction_2028_p8_CSV=tabula.convert_into('Ostateczne wyniki aukcji głównej na 2028.pdf','Ostateczne_wyniki_aukcji_2028_p8.csv',pages=[8])\n",
    "Auction_2028_p9_CSV=tabula.convert_into('Ostateczne wyniki aukcji głównej na 2028.pdf','Ostateczne_wyniki_aukcji_2028_p9.csv',pages=[9])\n",
    "Auction_2028_p10_CSV=tabula.convert_into('Ostateczne wyniki aukcji głównej na 2028.pdf','Ostateczne_wyniki_aukcji_2028_p10.csv',pages=[10])\n",
    "Auction_2028_p11_CSV=tabula.convert_into('Ostateczne wyniki aukcji głównej na 2028.pdf','Ostateczne_wyniki_aukcji_2028_p11.csv',pages=[11])\n",
    "Auction_2028_p12_CSV=tabula.convert_into('Ostateczne wyniki aukcji głównej na 2028.pdf','Ostateczne_wyniki_aukcji_2028_p12.csv',pages=[12])\n"
   ]
  },
  {
   "cell_type": "code",
   "execution_count": 6,
   "id": "511d02ca-c6a7-472a-a69b-bf340fb16a3d",
   "metadata": {},
   "outputs": [],
   "source": [
    "Auction2028_p2=pd.DataFrame(pd.read_csv('Ostateczne_wyniki_aukcji_2028_p2.csv',skiprows=0))\n",
    "Auction2028_p3=pd.DataFrame(pd.read_csv('Ostateczne_wyniki_aukcji_2028_p3.csv',skiprows=0))\n",
    "Auction2028_p4=pd.DataFrame(pd.read_csv('Ostateczne_wyniki_aukcji_2028_p4.csv',skiprows=0))\n",
    "Auction2028_p5=pd.DataFrame(pd.read_csv('Ostateczne_wyniki_aukcji_2028_p5.csv',skiprows=0))\n",
    "Auction2028_p6=pd.DataFrame(pd.read_csv('Ostateczne_wyniki_aukcji_2028_p6.csv',skiprows=0))\n",
    "Auction2028_p7=pd.DataFrame(pd.read_csv('Ostateczne_wyniki_aukcji_2028_p7.csv',skiprows=0))\n",
    "Auction2028_p8=pd.DataFrame(pd.read_csv('Ostateczne_wyniki_aukcji_2028_p8.csv',skiprows=0))\n",
    "Auction2028_p9=pd.DataFrame(pd.read_csv('Ostateczne_wyniki_aukcji_2028_p9.csv',skiprows=0))\n",
    "Auction2028_p10=pd.DataFrame(pd.read_csv('Ostateczne_wyniki_aukcji_2028_p10.csv',skiprows=0))\n",
    "Auction2028_p11=pd.DataFrame(pd.read_csv('Ostateczne_wyniki_aukcji_2028_p11.csv',skiprows=0))\n",
    "Auction2028_p12=pd.DataFrame(pd.read_csv('Ostateczne_wyniki_aukcji_2028_p12.csv',skiprows=0))\n"
   ]
  },
  {
   "cell_type": "code",
   "execution_count": 7,
   "id": "8bd0b511-5905-4430-8927-16454486a32c",
   "metadata": {},
   "outputs": [],
   "source": [
    "Auction2028=pd.concat([Auction2028_p2,Auction2028_p3,Auction2028_p4,Auction2028_p5,Auction2028_p6,\n",
    "                      Auction2028_p7,Auction2028_p8,Auction2028_p9,Auction2028_p10,Auction2028_p11,Auction2028_p12])"
   ]
  },
  {
   "cell_type": "code",
   "execution_count": 8,
   "id": "3df7fc07-4549-4ec4-90d1-b7f0d49fcd7b",
   "metadata": {},
   "outputs": [],
   "source": [
    "Auction2028.to_excel('Auction 2028.xlsx')"
   ]
  },
  {
   "cell_type": "code",
   "execution_count": null,
   "id": "17b59134-3374-4508-9855-b1d047582e1e",
   "metadata": {},
   "outputs": [],
   "source": []
  }
 ],
 "metadata": {
  "kernelspec": {
   "display_name": "Python 3 (ipykernel)",
   "language": "python",
   "name": "python3"
  },
  "language_info": {
   "codemirror_mode": {
    "name": "ipython",
    "version": 3
   },
   "file_extension": ".py",
   "mimetype": "text/x-python",
   "name": "python",
   "nbconvert_exporter": "python",
   "pygments_lexer": "ipython3",
   "version": "3.12.4"
  }
 },
 "nbformat": 4,
 "nbformat_minor": 5
}
